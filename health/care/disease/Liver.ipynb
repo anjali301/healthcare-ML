{
 "cells": [
  {
   "cell_type": "code",
   "execution_count": 1,
   "id": "e29f4d26",
   "metadata": {},
   "outputs": [],
   "source": [
    "import numpy as np\n",
    "import pandas as pd\n",
    "from sklearn.linear_model import LogisticRegression\n",
    "from sklearn.ensemble import RandomForestClassifier\n",
    "from sklearn import svm\n",
    "from sklearn.model_selection import train_test_split\n",
    "from sklearn.preprocessing import StandardScaler\n",
    "from sklearn.metrics import accuracy_score, confusion_matrix\n",
    "import matplotlib.pyplot as plt\n",
    "from mlxtend.plotting import plot_confusion_matrix\n",
    "import seaborn as sns"
   ]
  },
  {
   "cell_type": "code",
   "execution_count": 2,
   "id": "9bab71dc",
   "metadata": {},
   "outputs": [],
   "source": [
    "park_data = pd.read_csv('liver.csv')"
   ]
  },
  {
   "cell_type": "markdown",
   "id": "448d468d",
   "metadata": {},
   "source": [
    "## Analyzing the Dataset"
   ]
  },
  {
   "cell_type": "code",
   "execution_count": 3,
   "id": "e80f0513",
   "metadata": {},
   "outputs": [
    {
     "data": {
      "text/html": [
       "<div>\n",
       "<style scoped>\n",
       "    .dataframe tbody tr th:only-of-type {\n",
       "        vertical-align: middle;\n",
       "    }\n",
       "\n",
       "    .dataframe tbody tr th {\n",
       "        vertical-align: top;\n",
       "    }\n",
       "\n",
       "    .dataframe thead th {\n",
       "        text-align: right;\n",
       "    }\n",
       "</style>\n",
       "<table border=\"1\" class=\"dataframe\">\n",
       "  <thead>\n",
       "    <tr style=\"text-align: right;\">\n",
       "      <th></th>\n",
       "      <th>age</th>\n",
       "      <th>gender</th>\n",
       "      <th>total_bilirubin</th>\n",
       "      <th>direct_bilirubin</th>\n",
       "      <th>alkphos_alkaline_phosphotase</th>\n",
       "      <th>sgpt_alamine_aminotransferase</th>\n",
       "      <th>sgot_aspartate_aminotransferase</th>\n",
       "      <th>total_proteins</th>\n",
       "      <th>albumin</th>\n",
       "      <th>albumin_and_globulin_ratio</th>\n",
       "      <th>result</th>\n",
       "    </tr>\n",
       "  </thead>\n",
       "  <tbody>\n",
       "    <tr>\n",
       "      <th>0</th>\n",
       "      <td>65.0</td>\n",
       "      <td>0.0</td>\n",
       "      <td>0.7</td>\n",
       "      <td>0.1</td>\n",
       "      <td>187.0</td>\n",
       "      <td>16.0</td>\n",
       "      <td>18.0</td>\n",
       "      <td>6.8</td>\n",
       "      <td>3.3</td>\n",
       "      <td>0.90</td>\n",
       "      <td>0</td>\n",
       "    </tr>\n",
       "    <tr>\n",
       "      <th>1</th>\n",
       "      <td>62.0</td>\n",
       "      <td>1.0</td>\n",
       "      <td>10.9</td>\n",
       "      <td>5.5</td>\n",
       "      <td>699.0</td>\n",
       "      <td>64.0</td>\n",
       "      <td>100.0</td>\n",
       "      <td>7.5</td>\n",
       "      <td>3.2</td>\n",
       "      <td>0.74</td>\n",
       "      <td>0</td>\n",
       "    </tr>\n",
       "    <tr>\n",
       "      <th>2</th>\n",
       "      <td>62.0</td>\n",
       "      <td>1.0</td>\n",
       "      <td>7.3</td>\n",
       "      <td>4.1</td>\n",
       "      <td>490.0</td>\n",
       "      <td>60.0</td>\n",
       "      <td>68.0</td>\n",
       "      <td>7.0</td>\n",
       "      <td>3.3</td>\n",
       "      <td>0.89</td>\n",
       "      <td>0</td>\n",
       "    </tr>\n",
       "    <tr>\n",
       "      <th>3</th>\n",
       "      <td>58.0</td>\n",
       "      <td>1.0</td>\n",
       "      <td>1.0</td>\n",
       "      <td>0.4</td>\n",
       "      <td>182.0</td>\n",
       "      <td>14.0</td>\n",
       "      <td>20.0</td>\n",
       "      <td>6.8</td>\n",
       "      <td>3.4</td>\n",
       "      <td>1.00</td>\n",
       "      <td>0</td>\n",
       "    </tr>\n",
       "    <tr>\n",
       "      <th>4</th>\n",
       "      <td>72.0</td>\n",
       "      <td>1.0</td>\n",
       "      <td>3.9</td>\n",
       "      <td>2.0</td>\n",
       "      <td>195.0</td>\n",
       "      <td>27.0</td>\n",
       "      <td>59.0</td>\n",
       "      <td>7.3</td>\n",
       "      <td>2.4</td>\n",
       "      <td>0.40</td>\n",
       "      <td>0</td>\n",
       "    </tr>\n",
       "  </tbody>\n",
       "</table>\n",
       "</div>"
      ],
      "text/plain": [
       "    age  gender  total_bilirubin  direct_bilirubin  \\\n",
       "0  65.0     0.0              0.7               0.1   \n",
       "1  62.0     1.0             10.9               5.5   \n",
       "2  62.0     1.0              7.3               4.1   \n",
       "3  58.0     1.0              1.0               0.4   \n",
       "4  72.0     1.0              3.9               2.0   \n",
       "\n",
       "    alkphos_alkaline_phosphotase   sgpt_alamine_aminotransferase  \\\n",
       "0                          187.0                            16.0   \n",
       "1                          699.0                            64.0   \n",
       "2                          490.0                            60.0   \n",
       "3                          182.0                            14.0   \n",
       "4                          195.0                            27.0   \n",
       "\n",
       "   sgot_aspartate_aminotransferase  total_proteins  albumin  \\\n",
       "0                             18.0             6.8      3.3   \n",
       "1                            100.0             7.5      3.2   \n",
       "2                             68.0             7.0      3.3   \n",
       "3                             20.0             6.8      3.4   \n",
       "4                             59.0             7.3      2.4   \n",
       "\n",
       "   albumin_and_globulin_ratio  result  \n",
       "0                        0.90       0  \n",
       "1                        0.74       0  \n",
       "2                        0.89       0  \n",
       "3                        1.00       0  \n",
       "4                        0.40       0  "
      ]
     },
     "execution_count": 3,
     "metadata": {},
     "output_type": "execute_result"
    }
   ],
   "source": [
    "park_data.head()"
   ]
  },
  {
   "cell_type": "code",
   "execution_count": 4,
   "id": "f88c3b1b",
   "metadata": {},
   "outputs": [
    {
     "data": {
      "text/plain": [
       "(30691, 11)"
      ]
     },
     "execution_count": 4,
     "metadata": {},
     "output_type": "execute_result"
    }
   ],
   "source": [
    "park_data.shape"
   ]
  },
  {
   "cell_type": "code",
   "execution_count": 5,
   "id": "ebbefed7",
   "metadata": {},
   "outputs": [
    {
     "name": "stdout",
     "output_type": "stream",
     "text": [
      "<class 'pandas.core.frame.DataFrame'>\n",
      "RangeIndex: 30691 entries, 0 to 30690\n",
      "Data columns (total 11 columns):\n",
      " #   Column                           Non-Null Count  Dtype  \n",
      "---  ------                           --------------  -----  \n",
      " 0   age                              30689 non-null  float64\n",
      " 1   gender                           29789 non-null  float64\n",
      " 2   total_bilirubin                  30043 non-null  float64\n",
      " 3   direct_bilirubin                 30130 non-null  float64\n",
      " 4    alkphos_alkaline_phosphotase    29895 non-null  float64\n",
      " 5    sgpt_alamine_aminotransferase   30153 non-null  float64\n",
      " 6   sgot_aspartate_aminotransferase  30229 non-null  float64\n",
      " 7   total_proteins                   30228 non-null  float64\n",
      " 8   albumin                          30197 non-null  float64\n",
      " 9   albumin_and_globulin_ratio       30132 non-null  float64\n",
      " 10  result                           30691 non-null  int64  \n",
      "dtypes: float64(10), int64(1)\n",
      "memory usage: 2.6 MB\n"
     ]
    }
   ],
   "source": [
    "park_data.info()"
   ]
  },
  {
   "cell_type": "code",
   "execution_count": 6,
   "id": "04afc14b",
   "metadata": {},
   "outputs": [
    {
     "data": {
      "text/plain": [
       "age                                  2\n",
       "gender                             902\n",
       "total_bilirubin                    648\n",
       "direct_bilirubin                   561\n",
       " alkphos_alkaline_phosphotase      796\n",
       " sgpt_alamine_aminotransferase     538\n",
       "sgot_aspartate_aminotransferase    462\n",
       "total_proteins                     463\n",
       "albumin                            494\n",
       "albumin_and_globulin_ratio         559\n",
       "result                               0\n",
       "dtype: int64"
      ]
     },
     "execution_count": 6,
     "metadata": {},
     "output_type": "execute_result"
    }
   ],
   "source": [
    "park_data.isnull().sum()"
   ]
  },
  {
   "cell_type": "code",
   "execution_count": 7,
   "id": "1036b5a9",
   "metadata": {},
   "outputs": [],
   "source": [
    "park_data.dropna(inplace=True)"
   ]
  },
  {
   "cell_type": "code",
   "execution_count": 8,
   "id": "6299e70e",
   "metadata": {},
   "outputs": [
    {
     "data": {
      "text/plain": [
       "age                                0\n",
       "gender                             0\n",
       "total_bilirubin                    0\n",
       "direct_bilirubin                   0\n",
       " alkphos_alkaline_phosphotase      0\n",
       " sgpt_alamine_aminotransferase     0\n",
       "sgot_aspartate_aminotransferase    0\n",
       "total_proteins                     0\n",
       "albumin                            0\n",
       "albumin_and_globulin_ratio         0\n",
       "result                             0\n",
       "dtype: int64"
      ]
     },
     "execution_count": 8,
     "metadata": {},
     "output_type": "execute_result"
    }
   ],
   "source": [
    "park_data.isnull().sum()"
   ]
  },
  {
   "cell_type": "code",
   "execution_count": 9,
   "id": "7b537f61",
   "metadata": {},
   "outputs": [
    {
     "data": {
      "text/html": [
       "<div>\n",
       "<style scoped>\n",
       "    .dataframe tbody tr th:only-of-type {\n",
       "        vertical-align: middle;\n",
       "    }\n",
       "\n",
       "    .dataframe tbody tr th {\n",
       "        vertical-align: top;\n",
       "    }\n",
       "\n",
       "    .dataframe thead th {\n",
       "        text-align: right;\n",
       "    }\n",
       "</style>\n",
       "<table border=\"1\" class=\"dataframe\">\n",
       "  <thead>\n",
       "    <tr style=\"text-align: right;\">\n",
       "      <th></th>\n",
       "      <th>age</th>\n",
       "      <th>gender</th>\n",
       "      <th>total_bilirubin</th>\n",
       "      <th>direct_bilirubin</th>\n",
       "      <th>alkphos_alkaline_phosphotase</th>\n",
       "      <th>sgpt_alamine_aminotransferase</th>\n",
       "      <th>sgot_aspartate_aminotransferase</th>\n",
       "      <th>total_proteins</th>\n",
       "      <th>albumin</th>\n",
       "      <th>albumin_and_globulin_ratio</th>\n",
       "      <th>result</th>\n",
       "    </tr>\n",
       "  </thead>\n",
       "  <tbody>\n",
       "    <tr>\n",
       "      <th>count</th>\n",
       "      <td>27158.000000</td>\n",
       "      <td>27158.000000</td>\n",
       "      <td>27158.000000</td>\n",
       "      <td>27158.000000</td>\n",
       "      <td>27158.000000</td>\n",
       "      <td>27158.000000</td>\n",
       "      <td>27158.000000</td>\n",
       "      <td>27158.000000</td>\n",
       "      <td>27158.000000</td>\n",
       "      <td>27158.000000</td>\n",
       "      <td>27158.000000</td>\n",
       "    </tr>\n",
       "    <tr>\n",
       "      <th>mean</th>\n",
       "      <td>44.125046</td>\n",
       "      <td>0.737683</td>\n",
       "      <td>3.407909</td>\n",
       "      <td>1.541630</td>\n",
       "      <td>290.142021</td>\n",
       "      <td>81.279292</td>\n",
       "      <td>112.102879</td>\n",
       "      <td>6.472605</td>\n",
       "      <td>3.124044</td>\n",
       "      <td>0.943567</td>\n",
       "      <td>0.282790</td>\n",
       "    </tr>\n",
       "    <tr>\n",
       "      <th>std</th>\n",
       "      <td>15.971563</td>\n",
       "      <td>0.439902</td>\n",
       "      <td>6.332486</td>\n",
       "      <td>2.895084</td>\n",
       "      <td>239.595473</td>\n",
       "      <td>181.571537</td>\n",
       "      <td>283.616005</td>\n",
       "      <td>1.081477</td>\n",
       "      <td>0.792329</td>\n",
       "      <td>0.324205</td>\n",
       "      <td>0.450363</td>\n",
       "    </tr>\n",
       "    <tr>\n",
       "      <th>min</th>\n",
       "      <td>4.000000</td>\n",
       "      <td>0.000000</td>\n",
       "      <td>0.400000</td>\n",
       "      <td>0.100000</td>\n",
       "      <td>63.000000</td>\n",
       "      <td>10.000000</td>\n",
       "      <td>10.000000</td>\n",
       "      <td>2.700000</td>\n",
       "      <td>0.900000</td>\n",
       "      <td>0.300000</td>\n",
       "      <td>0.000000</td>\n",
       "    </tr>\n",
       "    <tr>\n",
       "      <th>25%</th>\n",
       "      <td>33.000000</td>\n",
       "      <td>0.000000</td>\n",
       "      <td>0.800000</td>\n",
       "      <td>0.200000</td>\n",
       "      <td>175.000000</td>\n",
       "      <td>23.000000</td>\n",
       "      <td>26.000000</td>\n",
       "      <td>5.800000</td>\n",
       "      <td>2.600000</td>\n",
       "      <td>0.700000</td>\n",
       "      <td>0.000000</td>\n",
       "    </tr>\n",
       "    <tr>\n",
       "      <th>50%</th>\n",
       "      <td>45.000000</td>\n",
       "      <td>1.000000</td>\n",
       "      <td>1.000000</td>\n",
       "      <td>0.300000</td>\n",
       "      <td>209.000000</td>\n",
       "      <td>36.000000</td>\n",
       "      <td>42.000000</td>\n",
       "      <td>6.600000</td>\n",
       "      <td>3.100000</td>\n",
       "      <td>0.900000</td>\n",
       "      <td>0.000000</td>\n",
       "    </tr>\n",
       "    <tr>\n",
       "      <th>75%</th>\n",
       "      <td>55.000000</td>\n",
       "      <td>1.000000</td>\n",
       "      <td>2.700000</td>\n",
       "      <td>1.300000</td>\n",
       "      <td>298.000000</td>\n",
       "      <td>62.000000</td>\n",
       "      <td>88.000000</td>\n",
       "      <td>7.200000</td>\n",
       "      <td>3.700000</td>\n",
       "      <td>1.100000</td>\n",
       "      <td>1.000000</td>\n",
       "    </tr>\n",
       "    <tr>\n",
       "      <th>max</th>\n",
       "      <td>90.000000</td>\n",
       "      <td>1.000000</td>\n",
       "      <td>75.000000</td>\n",
       "      <td>19.700000</td>\n",
       "      <td>2110.000000</td>\n",
       "      <td>2000.000000</td>\n",
       "      <td>4929.000000</td>\n",
       "      <td>9.600000</td>\n",
       "      <td>5.500000</td>\n",
       "      <td>2.800000</td>\n",
       "      <td>1.000000</td>\n",
       "    </tr>\n",
       "  </tbody>\n",
       "</table>\n",
       "</div>"
      ],
      "text/plain": [
       "                age        gender  total_bilirubin  direct_bilirubin  \\\n",
       "count  27158.000000  27158.000000     27158.000000      27158.000000   \n",
       "mean      44.125046      0.737683         3.407909          1.541630   \n",
       "std       15.971563      0.439902         6.332486          2.895084   \n",
       "min        4.000000      0.000000         0.400000          0.100000   \n",
       "25%       33.000000      0.000000         0.800000          0.200000   \n",
       "50%       45.000000      1.000000         1.000000          0.300000   \n",
       "75%       55.000000      1.000000         2.700000          1.300000   \n",
       "max       90.000000      1.000000        75.000000         19.700000   \n",
       "\n",
       "        alkphos_alkaline_phosphotase   sgpt_alamine_aminotransferase  \\\n",
       "count                   27158.000000                    27158.000000   \n",
       "mean                      290.142021                       81.279292   \n",
       "std                       239.595473                      181.571537   \n",
       "min                        63.000000                       10.000000   \n",
       "25%                       175.000000                       23.000000   \n",
       "50%                       209.000000                       36.000000   \n",
       "75%                       298.000000                       62.000000   \n",
       "max                      2110.000000                     2000.000000   \n",
       "\n",
       "       sgot_aspartate_aminotransferase  total_proteins       albumin  \\\n",
       "count                     27158.000000    27158.000000  27158.000000   \n",
       "mean                        112.102879        6.472605      3.124044   \n",
       "std                         283.616005        1.081477      0.792329   \n",
       "min                          10.000000        2.700000      0.900000   \n",
       "25%                          26.000000        5.800000      2.600000   \n",
       "50%                          42.000000        6.600000      3.100000   \n",
       "75%                          88.000000        7.200000      3.700000   \n",
       "max                        4929.000000        9.600000      5.500000   \n",
       "\n",
       "       albumin_and_globulin_ratio        result  \n",
       "count                27158.000000  27158.000000  \n",
       "mean                     0.943567      0.282790  \n",
       "std                      0.324205      0.450363  \n",
       "min                      0.300000      0.000000  \n",
       "25%                      0.700000      0.000000  \n",
       "50%                      0.900000      0.000000  \n",
       "75%                      1.100000      1.000000  \n",
       "max                      2.800000      1.000000  "
      ]
     },
     "execution_count": 9,
     "metadata": {},
     "output_type": "execute_result"
    }
   ],
   "source": [
    "park_data.describe()"
   ]
  },
  {
   "cell_type": "markdown",
   "id": "ebca7877",
   "metadata": {},
   "source": [
    "Check for number of people having parkinsons and number of people who don't. The status column gives the data of people with and without Parkinson's Disease. The status **1** represents person has the disease and the stauts **0** represents that the person doesn't"
   ]
  },
  {
   "cell_type": "code",
   "execution_count": 10,
   "id": "bae38f8a",
   "metadata": {},
   "outputs": [
    {
     "data": {
      "text/plain": [
       "0    19478\n",
       "1     7680\n",
       "Name: result, dtype: int64"
      ]
     },
     "execution_count": 10,
     "metadata": {},
     "output_type": "execute_result"
    }
   ],
   "source": [
    "park_data['result'].value_counts()"
   ]
  },
  {
   "cell_type": "code",
   "execution_count": 11,
   "id": "83b38dd4",
   "metadata": {},
   "outputs": [
    {
     "data": {
      "text/plain": [
       "<AxesSubplot:title={'center':'Liver Disease Analyzer'}, xlabel='result', ylabel='count'>"
      ]
     },
     "execution_count": 11,
     "metadata": {},
     "output_type": "execute_result"
    },
    {
     "data": {
      "image/png": "[encoded data removed]",
      "text/plain": [
       "<Figure size 432x288 with 1 Axes>"
      ]
     },
     "metadata": {
      "needs_background": "light"
     },
     "output_type": "display_data"
    }
   ],
   "source": [
    "plt.title(\"Liver Disease Analyzer\")\n",
    "sns.countplot(x='result', data=park_data)"
   ]
  },
  {
   "cell_type": "markdown",
   "id": "8424cbf5",
   "metadata": {},
   "source": [
    "#### Correlation Heatmap\n",
    "\n",
    "A correlation heatmap is a heatmap that shows a 2D correlation matrix between two discrete dimensions, using colored cells to represent data from usually a monochromatic scale. The values of the first dimension appear as the rows of the table while of the second dimension as a column. The color of the cell is proportional to the number of measurements that match the dimensional value. This makes correlation heatmaps ideal for data analysis since it makes patterns easily readable and highlights the differences and variation in the same data. A correlation heatmap, like a regular heatmap, is assisted by a colorbar making data easily readable and comprehensible."
   ]
  },
  {
   "cell_type": "code",
   "execution_count": 12,
   "id": "7cdb96a9",
   "metadata": {},
   "outputs": [
    {
     "data": {
      "text/plain": [
       "<AxesSubplot:>"
      ]
     },
     "execution_count": 12,
     "metadata": {},
     "output_type": "execute_result"
    },
    {
     "data": {
      "image/png": "[encoded data removed]",
      "text/plain": [
       "<Figure size 1800x1800 with 2 Axes>"
      ]
     },
     "metadata": {
      "needs_background": "light"
     },
     "output_type": "display_data"
    }
   ],
   "source": [
    "plt.figure(figsize = (25, 25))\n",
    "sns.heatmap(park_data.corr(), annot=True, cmap='YlGnBu')"
   ]
  },
  {
   "cell_type": "markdown",
   "id": "9ae51720",
   "metadata": {},
   "source": [
    "Now, we group the data by the status and find the mean of all the attributes for better understanding"
   ]
  },
  {
   "cell_type": "code",
   "execution_count": 13,
   "id": "0bdad43a",
   "metadata": {},
   "outputs": [
    {
     "data": {
      "text/html": [
       "<div>\n",
       "<style scoped>\n",
       "    .dataframe tbody tr th:only-of-type {\n",
       "        vertical-align: middle;\n",
       "    }\n",
       "\n",
       "    .dataframe tbody tr th {\n",
       "        vertical-align: top;\n",
       "    }\n",
       "\n",
       "    .dataframe thead th {\n",
       "        text-align: right;\n",
       "    }\n",
       "</style>\n",
       "<table border=\"1\" class=\"dataframe\">\n",
       "  <thead>\n",
       "    <tr style=\"text-align: right;\">\n",
       "      <th></th>\n",
       "      <th>age</th>\n",
       "      <th>gender</th>\n",
       "      <th>total_bilirubin</th>\n",
       "      <th>direct_bilirubin</th>\n",
       "      <th>alkphos_alkaline_phosphotase</th>\n",
       "      <th>sgpt_alamine_aminotransferase</th>\n",
       "      <th>sgot_aspartate_aminotransferase</th>\n",
       "      <th>total_proteins</th>\n",
       "      <th>albumin</th>\n",
       "      <th>albumin_and_globulin_ratio</th>\n",
       "    </tr>\n",
       "    <tr>\n",
       "      <th>result</th>\n",
       "      <th></th>\n",
       "      <th></th>\n",
       "      <th></th>\n",
       "      <th></th>\n",
       "      <th></th>\n",
       "      <th></th>\n",
       "      <th></th>\n",
       "      <th></th>\n",
       "      <th></th>\n",
       "      <th></th>\n",
       "    </tr>\n",
       "  </thead>\n",
       "  <tbody>\n",
       "    <tr>\n",
       "      <th>0</th>\n",
       "      <td>44.195913</td>\n",
       "      <td>0.737961</td>\n",
       "      <td>4.301325</td>\n",
       "      <td>1.993839</td>\n",
       "      <td>317.61608</td>\n",
       "      <td>99.997998</td>\n",
       "      <td>140.101859</td>\n",
       "      <td>6.452084</td>\n",
       "      <td>3.045970</td>\n",
       "      <td>0.911990</td>\n",
       "    </tr>\n",
       "    <tr>\n",
       "      <th>1</th>\n",
       "      <td>43.945312</td>\n",
       "      <td>0.736979</td>\n",
       "      <td>1.142031</td>\n",
       "      <td>0.394740</td>\n",
       "      <td>220.46237</td>\n",
       "      <td>33.804948</td>\n",
       "      <td>41.091927</td>\n",
       "      <td>6.524648</td>\n",
       "      <td>3.322057</td>\n",
       "      <td>1.023651</td>\n",
       "    </tr>\n",
       "  </tbody>\n",
       "</table>\n",
       "</div>"
      ],
      "text/plain": [
       "              age    gender  total_bilirubin  direct_bilirubin  \\\n",
       "result                                                           \n",
       "0       44.195913  0.737961         4.301325          1.993839   \n",
       "1       43.945312  0.736979         1.142031          0.394740   \n",
       "\n",
       "         alkphos_alkaline_phosphotase   sgpt_alamine_aminotransferase  \\\n",
       "result                                                                  \n",
       "0                           317.61608                       99.997998   \n",
       "1                           220.46237                       33.804948   \n",
       "\n",
       "        sgot_aspartate_aminotransferase  total_proteins   albumin  \\\n",
       "result                                                              \n",
       "0                            140.101859        6.452084  3.045970   \n",
       "1                             41.091927        6.524648  3.322057   \n",
       "\n",
       "        albumin_and_globulin_ratio  \n",
       "result                              \n",
       "0                         0.911990  \n",
       "1                         1.023651  "
      ]
     },
     "execution_count": 13,
     "metadata": {},
     "output_type": "execute_result"
    }
   ],
   "source": [
    "park_data.groupby(['result']).mean()"
   ]
  },
  {
   "cell_type": "markdown",
   "id": "f76b47dd",
   "metadata": {},
   "source": [
    "## Preprocessing\n",
    "\n",
    "Separating the target (status) from rest of the features"
   ]
  },
  {
   "cell_type": "code",
   "execution_count": 14,
   "id": "9f54ab27",
   "metadata": {},
   "outputs": [],
   "source": [
    "x = park_data.drop(columns=['result'])\n",
    "y = park_data['result']"
   ]
  },
  {
   "cell_type": "code",
   "execution_count": 15,
   "id": "057439b1",
   "metadata": {},
   "outputs": [
    {
     "data": {
      "text/html": [
       "<div>\n",
       "<style scoped>\n",
       "    .dataframe tbody tr th:only-of-type {\n",
       "        vertical-align: middle;\n",
       "    }\n",
       "\n",
       "    .dataframe tbody tr th {\n",
       "        vertical-align: top;\n",
       "    }\n",
       "\n",
       "    .dataframe thead th {\n",
       "        text-align: right;\n",
       "    }\n",
       "</style>\n",
       "<table border=\"1\" class=\"dataframe\">\n",
       "  <thead>\n",
       "    <tr style=\"text-align: right;\">\n",
       "      <th></th>\n",
       "      <th>age</th>\n",
       "      <th>gender</th>\n",
       "      <th>total_bilirubin</th>\n",
       "      <th>direct_bilirubin</th>\n",
       "      <th>alkphos_alkaline_phosphotase</th>\n",
       "      <th>sgpt_alamine_aminotransferase</th>\n",
       "      <th>sgot_aspartate_aminotransferase</th>\n",
       "      <th>total_proteins</th>\n",
       "      <th>albumin</th>\n",
       "      <th>albumin_and_globulin_ratio</th>\n",
       "    </tr>\n",
       "  </thead>\n",
       "  <tbody>\n",
       "    <tr>\n",
       "      <th>0</th>\n",
       "      <td>65.0</td>\n",
       "      <td>0.0</td>\n",
       "      <td>0.7</td>\n",
       "      <td>0.1</td>\n",
       "      <td>187.0</td>\n",
       "      <td>16.0</td>\n",
       "      <td>18.0</td>\n",
       "      <td>6.8</td>\n",
       "      <td>3.3</td>\n",
       "      <td>0.90</td>\n",
       "    </tr>\n",
       "    <tr>\n",
       "      <th>1</th>\n",
       "      <td>62.0</td>\n",
       "      <td>1.0</td>\n",
       "      <td>10.9</td>\n",
       "      <td>5.5</td>\n",
       "      <td>699.0</td>\n",
       "      <td>64.0</td>\n",
       "      <td>100.0</td>\n",
       "      <td>7.5</td>\n",
       "      <td>3.2</td>\n",
       "      <td>0.74</td>\n",
       "    </tr>\n",
       "    <tr>\n",
       "      <th>2</th>\n",
       "      <td>62.0</td>\n",
       "      <td>1.0</td>\n",
       "      <td>7.3</td>\n",
       "      <td>4.1</td>\n",
       "      <td>490.0</td>\n",
       "      <td>60.0</td>\n",
       "      <td>68.0</td>\n",
       "      <td>7.0</td>\n",
       "      <td>3.3</td>\n",
       "      <td>0.89</td>\n",
       "    </tr>\n",
       "    <tr>\n",
       "      <th>3</th>\n",
       "      <td>58.0</td>\n",
       "      <td>1.0</td>\n",
       "      <td>1.0</td>\n",
       "      <td>0.4</td>\n",
       "      <td>182.0</td>\n",
       "      <td>14.0</td>\n",
       "      <td>20.0</td>\n",
       "      <td>6.8</td>\n",
       "      <td>3.4</td>\n",
       "      <td>1.00</td>\n",
       "    </tr>\n",
       "    <tr>\n",
       "      <th>4</th>\n",
       "      <td>72.0</td>\n",
       "      <td>1.0</td>\n",
       "      <td>3.9</td>\n",
       "      <td>2.0</td>\n",
       "      <td>195.0</td>\n",
       "      <td>27.0</td>\n",
       "      <td>59.0</td>\n",
       "      <td>7.3</td>\n",
       "      <td>2.4</td>\n",
       "      <td>0.40</td>\n",
       "    </tr>\n",
       "    <tr>\n",
       "      <th>...</th>\n",
       "      <td>...</td>\n",
       "      <td>...</td>\n",
       "      <td>...</td>\n",
       "      <td>...</td>\n",
       "      <td>...</td>\n",
       "      <td>...</td>\n",
       "      <td>...</td>\n",
       "      <td>...</td>\n",
       "      <td>...</td>\n",
       "      <td>...</td>\n",
       "    </tr>\n",
       "    <tr>\n",
       "      <th>30686</th>\n",
       "      <td>50.0</td>\n",
       "      <td>1.0</td>\n",
       "      <td>2.2</td>\n",
       "      <td>1.0</td>\n",
       "      <td>610.0</td>\n",
       "      <td>17.0</td>\n",
       "      <td>28.0</td>\n",
       "      <td>7.3</td>\n",
       "      <td>2.6</td>\n",
       "      <td>0.55</td>\n",
       "    </tr>\n",
       "    <tr>\n",
       "      <th>30687</th>\n",
       "      <td>55.0</td>\n",
       "      <td>1.0</td>\n",
       "      <td>2.9</td>\n",
       "      <td>1.3</td>\n",
       "      <td>482.0</td>\n",
       "      <td>22.0</td>\n",
       "      <td>34.0</td>\n",
       "      <td>7.0</td>\n",
       "      <td>2.4</td>\n",
       "      <td>0.50</td>\n",
       "    </tr>\n",
       "    <tr>\n",
       "      <th>30688</th>\n",
       "      <td>54.0</td>\n",
       "      <td>1.0</td>\n",
       "      <td>6.8</td>\n",
       "      <td>3.0</td>\n",
       "      <td>542.0</td>\n",
       "      <td>116.0</td>\n",
       "      <td>66.0</td>\n",
       "      <td>6.4</td>\n",
       "      <td>3.1</td>\n",
       "      <td>0.90</td>\n",
       "    </tr>\n",
       "    <tr>\n",
       "      <th>30689</th>\n",
       "      <td>48.0</td>\n",
       "      <td>0.0</td>\n",
       "      <td>1.9</td>\n",
       "      <td>1.0</td>\n",
       "      <td>231.0</td>\n",
       "      <td>16.0</td>\n",
       "      <td>55.0</td>\n",
       "      <td>4.3</td>\n",
       "      <td>1.6</td>\n",
       "      <td>0.60</td>\n",
       "    </tr>\n",
       "    <tr>\n",
       "      <th>30690</th>\n",
       "      <td>30.0</td>\n",
       "      <td>1.0</td>\n",
       "      <td>3.1</td>\n",
       "      <td>1.6</td>\n",
       "      <td>253.0</td>\n",
       "      <td>80.0</td>\n",
       "      <td>406.0</td>\n",
       "      <td>6.8</td>\n",
       "      <td>3.9</td>\n",
       "      <td>1.30</td>\n",
       "    </tr>\n",
       "  </tbody>\n",
       "</table>\n",
       "<p>27158 rows × 10 columns</p>\n",
       "</div>"
      ],
      "text/plain": [
       "        age  gender  total_bilirubin  direct_bilirubin  \\\n",
       "0      65.0     0.0              0.7               0.1   \n",
       "1      62.0     1.0             10.9               5.5   \n",
       "2      62.0     1.0              7.3               4.1   \n",
       "3      58.0     1.0              1.0               0.4   \n",
       "4      72.0     1.0              3.9               2.0   \n",
       "...     ...     ...              ...               ...   \n",
       "30686  50.0     1.0              2.2               1.0   \n",
       "30687  55.0     1.0              2.9               1.3   \n",
       "30688  54.0     1.0              6.8               3.0   \n",
       "30689  48.0     0.0              1.9               1.0   \n",
       "30690  30.0     1.0              3.1               1.6   \n",
       "\n",
       "        alkphos_alkaline_phosphotase   sgpt_alamine_aminotransferase  \\\n",
       "0                              187.0                            16.0   \n",
       "1                              699.0                            64.0   \n",
       "2                              490.0                            60.0   \n",
       "3                              182.0                            14.0   \n",
       "4                              195.0                            27.0   \n",
       "...                              ...                             ...   \n",
       "30686                          610.0                            17.0   \n",
       "30687                          482.0                            22.0   \n",
       "30688                          542.0                           116.0   \n",
       "30689                          231.0                            16.0   \n",
       "30690                          253.0                            80.0   \n",
       "\n",
       "       sgot_aspartate_aminotransferase  total_proteins  albumin  \\\n",
       "0                                 18.0             6.8      3.3   \n",
       "1                                100.0             7.5      3.2   \n",
       "2                                 68.0             7.0      3.3   \n",
       "3                                 20.0             6.8      3.4   \n",
       "4                                 59.0             7.3      2.4   \n",
       "...                                ...             ...      ...   \n",
       "30686                             28.0             7.3      2.6   \n",
       "30687                             34.0             7.0      2.4   \n",
       "30688                             66.0             6.4      3.1   \n",
       "30689                             55.0             4.3      1.6   \n",
       "30690                            406.0             6.8      3.9   \n",
       "\n",
       "       albumin_and_globulin_ratio  \n",
       "0                            0.90  \n",
       "1                            0.74  \n",
       "2                            0.89  \n",
       "3                            1.00  \n",
       "4                            0.40  \n",
       "...                           ...  \n",
       "30686                        0.55  \n",
       "30687                        0.50  \n",
       "30688                        0.90  \n",
       "30689                        0.60  \n",
       "30690                        1.30  \n",
       "\n",
       "[27158 rows x 10 columns]"
      ]
     },
     "execution_count": 15,
     "metadata": {},
     "output_type": "execute_result"
    }
   ],
   "source": [
    "x"
   ]
  },
  {
   "cell_type": "code",
   "execution_count": 16,
   "id": "af2ee6cc",
   "metadata": {},
   "outputs": [
    {
     "data": {
      "text/plain": [
       "0        0\n",
       "1        0\n",
       "2        0\n",
       "3        0\n",
       "4        0\n",
       "        ..\n",
       "30686    0\n",
       "30687    0\n",
       "30688    0\n",
       "30689    0\n",
       "30690    0\n",
       "Name: result, Length: 27158, dtype: int64"
      ]
     },
     "execution_count": 16,
     "metadata": {},
     "output_type": "execute_result"
    }
   ],
   "source": [
    "y"
   ]
  },
  {
   "cell_type": "markdown",
   "id": "d314f5ab",
   "metadata": {},
   "source": [
    "Split the original full data into training data into testing data. Here, test size represents the percentage of data we want for testing. For example, test_size = 0.2 means that 20% of the data goes into testing and 80% goes to training. <br><br>\n",
    "The random_state attribute is used to reproduce the same result from earlier. The train_test_split randomly splits the data into training part and testing part. Now, if we do random_state = 1, then everytime we or anyone performs train_test_split on our code by keeping random_state as 1 will get same data for the training and testing data. Same goes with any other integer with random_state value. If random_state = 2, then values that we get might be diffrent from the values we got for random_state = 1, but everytime we will perform train_test_split by using random_state = 2, we will get same value."
   ]
  },
  {
   "cell_type": "code",
   "execution_count": 17,
   "id": "e7662a88",
   "metadata": {},
   "outputs": [],
   "source": [
    "x_train, x_test, y_train, y_test = train_test_split(x, y, test_size=0.2, stratify=y, random_state=2)"
   ]
  },
  {
   "cell_type": "code",
   "execution_count": 18,
   "id": "bdb3c965",
   "metadata": {},
   "outputs": [
    {
     "name": "stdout",
     "output_type": "stream",
     "text": [
      "(27158, 10) (21726, 10) (5432, 10)\n"
     ]
    }
   ],
   "source": [
    "print(x.shape, x_train.shape, x_test.shape) # second + third = first"
   ]
  },
  {
   "cell_type": "markdown",
   "id": "cebeea8a",
   "metadata": {},
   "source": [
    "## Data Standardization\n",
    "We need to standardize the data before moving forward. Our table has 22 features (after removing _name_ and _status_ columns). Now, we should standardize them to a range, without making them lose their meaning. The process of doing this is called **data standardization**. This is done by using the **StandardScaler()** that we imported above. It uses normal distribution (z = (x - μ) / σ)"
   ]
  },
  {
   "cell_type": "code",
   "execution_count": 19,
   "id": "a70ffb6d",
   "metadata": {},
   "outputs": [],
   "source": [
    "scaler = StandardScaler()"
   ]
  },
  {
   "cell_type": "code",
   "execution_count": 20,
   "id": "54756638",
   "metadata": {},
   "outputs": [],
   "source": [
    "# Fitting the data to be standardized into scaler, since we cannot randomly standardize\n",
    "\n",
    "# scaler.fit(x_train)\n",
    "# x_train = scaler.transform(x_train)\n",
    "\n",
    "x_train = scaler.fit_transform(x_train)\n",
    "\n",
    "# We don't fit the data into x_test since we want to test the data and if we put then model will get trained on test\n",
    "# data as well\n",
    "x_test = scaler.transform(x_test)"
   ]
  },
  {
   "cell_type": "code",
   "execution_count": 21,
   "id": "80bf3c3c",
   "metadata": {},
   "outputs": [
    {
     "data": {
      "text/plain": [
       "array([[ 1.75166568, -1.67797359, -0.3914691 , ..., -0.43379073,\n",
       "         0.9836953 ,  2.7916052 ],\n",
       "       [-1.95249658, -1.67797359, -0.25030267, ...,  1.41499153,\n",
       "         1.10991942,  0.17571964],\n",
       "       [ 0.7471471 , -1.67797359,  2.08678596, ...,  0.39816129,\n",
       "         0.4787988 ,  0.23726989],\n",
       "       ...,\n",
       "       [-0.63406594,  0.59595694,  1.17704676, ..., -0.06403427,\n",
       "        -1.03589071, -1.36303657],\n",
       "       [ 1.06105916,  0.59595694,  6.18061236, ...,  0.95279597,\n",
       "        -0.65721833, -1.36303657],\n",
       "       [ 1.24940639,  0.59595694, -0.40715426, ...,  0.4906004 ,\n",
       "        -0.15232183, -0.74753408]])"
      ]
     },
     "execution_count": 21,
     "metadata": {},
     "output_type": "execute_result"
    }
   ],
   "source": [
    "x_train # All values are in the range of -1 to 1."
   ]
  },
  {
   "cell_type": "markdown",
   "id": "6b054cd8",
   "metadata": {},
   "source": [
    "## Model Training (Using Random forest Model)"
   ]
  },
  {
   "cell_type": "code",
   "execution_count": 22,
   "id": "b3f90f33",
   "metadata": {},
   "outputs": [],
   "source": [
    "model = RandomForestClassifier(max_depth=14, random_state=2) # SVC = Support Vector Classifier  Also has SVR (R for regressor)\n",
    "# The list of kernels is ‘linear’, ‘poly’, ‘rbf’, ‘sigmoid’, ‘precomputed’ (Default is rbf (radial basis function))"
   ]
  },
  {
   "cell_type": "code",
   "execution_count": 23,
   "id": "c68a0e2e",
   "metadata": {},
   "outputs": [
    {
     "data": {
      "text/plain": [
       "RandomForestClassifier(max_depth=14, random_state=2)"
      ]
     },
     "execution_count": 23,
     "metadata": {},
     "output_type": "execute_result"
    }
   ],
   "source": [
    "# Training the SVM Model with training data\n",
    "model.fit(x_train, y_train)"
   ]
  },
  {
   "cell_type": "markdown",
   "id": "a8297edd",
   "metadata": {},
   "source": [
    "## Model Evaluation"
   ]
  },
  {
   "cell_type": "code",
   "execution_count": 24,
   "id": "897e2940",
   "metadata": {},
   "outputs": [],
   "source": [
    "# Find accuracy score on training data\n",
    "y_pred_train = model.predict(x_train)\n",
    "training_acc = accuracy_score(y_train, y_pred_train)"
   ]
  },
  {
   "cell_type": "code",
   "execution_count": 25,
   "id": "fd276d09",
   "metadata": {},
   "outputs": [
    {
     "data": {
      "text/plain": [
       "0.9999079443984167"
      ]
     },
     "execution_count": 25,
     "metadata": {},
     "output_type": "execute_result"
    }
   ],
   "source": [
    "training_acc # Accuracy score above 0.75 (75%) is considered to be a good accuracy score (Too much is bad - overfitting)"
   ]
  },
  {
   "cell_type": "code",
   "execution_count": 26,
   "id": "818db935",
   "metadata": {},
   "outputs": [],
   "source": [
    "y_pred_test = model.predict(x_test)\n",
    "test_acc = accuracy_score(y_test, y_pred_test)"
   ]
  },
  {
   "cell_type": "code",
   "execution_count": 27,
   "id": "f8496b8d",
   "metadata": {},
   "outputs": [
    {
     "data": {
      "text/plain": [
       "0.9996318114874816"
      ]
     },
     "execution_count": 27,
     "metadata": {},
     "output_type": "execute_result"
    }
   ],
   "source": [
    "test_acc # Accuracy score close to training accuracy shows that model is good. Else, it might be sign of overfitting"
   ]
  },
  {
   "cell_type": "code",
   "execution_count": 28,
   "id": "1b734f54",
   "metadata": {},
   "outputs": [
    {
     "data": {
      "image/png": "[encoded data removed]",
      "text/plain": [
       "<Figure size 432x432 with 1 Axes>"
      ]
     },
     "metadata": {
      "needs_background": "light"
     },
     "output_type": "display_data"
    }
   ],
   "source": [
    "cm = confusion_matrix(y_test, y_pred_test)\n",
    "fig, ax = plot_confusion_matrix(conf_mat=cm, figsize=(6, 6), cmap=plt.cm.Blues)\n",
    "plt.xlabel('Predictions', fontsize=18)\n",
    "plt.ylabel('Actuals', fontsize=18)\n",
    "plt.title('Confusion Matrix', fontsize=18)\n",
    "plt.show()"
   ]
  },
  {
   "cell_type": "code",
   "execution_count": 29,
   "id": "a6c96181",
   "metadata": {},
   "outputs": [
    {
     "data": {
      "text/plain": [
       "['liver.sav']"
      ]
     },
     "execution_count": 29,
     "metadata": {},
     "output_type": "execute_result"
    }
   ],
   "source": [
    "import joblib\n",
    "filename = \"liver.sav\"\n",
    "joblib.dump(model, filename)"
   ]
  },
  {
   "cell_type": "code",
   "execution_count": 30,
   "id": "e12036b3",
   "metadata": {},
   "outputs": [
    {
     "name": "stdout",
     "output_type": "stream",
     "text": [
      "You are healthy!\n"
     ]
    }
   ],
   "source": [
    "input_data = (65, 0, 0.7, 0.1, 187, 16, 18, 6.8, 3.3, 0.9)\n",
    "# input_data = (198.76400,396.96100,74.90400,0.00740,0.00004,0.00370,0.00390,0.01109,0.02296,0.24100,0.01265,0.01321,0.01588,0.03794,0.07223,19.02000,0.451221,0.643956,-6.744577,0.207454,2.138608,0.123306)\n",
    "\n",
    "# Converting into numpy array\n",
    "inp_arr = np.asarray(input_data) # np.asarray() is same as np.array(), except that np.asarray() doesn't make a copy unless necessary\n",
    "\n",
    "# Reshape the numpy array. This is necessary because if we don't reshape the array, the model will think that there are\n",
    "# multiple rows (equal to shape of x_train). So, we need to tell the model that we have only one row.\n",
    "inp_reshape = inp_arr.reshape(1, -1)\n",
    "\n",
    "# Standardize the data\n",
    "standard_inp = scaler.transform(inp_reshape)\n",
    "\n",
    "# Let the model predict\n",
    "predicted = model.predict(standard_inp)\n",
    "\n",
    "# print(predicted, predicted2)\n",
    "\n",
    "if predicted[0] == 0:\n",
    "    print(\"You are healthy!\")\n",
    "elif predicted[0] == 1:\n",
    "    print(\"You re suffering from Liver Disease\")"
   ]
  },
  {
   "cell_type": "code",
   "execution_count": null,
   "id": "dd05d3be",
   "metadata": {},
   "outputs": [],
   "source": []
  }
 ],
 "metadata": {
  "interpreter": {
   "hash": "8b2e19dd868e417e4b1b41fc41f3fe496d5b469dbca04626010c530a7d3a5c53"
  },
  "kernelspec": {
   "display_name": "Python 3",
   "language": "python",
   "name": "python3"
  },
  "language_info": {
   "codemirror_mode": {
    "name": "ipython",
    "version": 3
   },
   "file_extension": ".py",
   "mimetype": "text/x-python",
   "name": "python",
   "nbconvert_exporter": "python",
   "pygments_lexer": "ipython3",
   "version": "3.8.5"
  },
  "toc": {
   "base_numbering": 1,
   "nav_menu": {},
   "number_sections": true,
   "sideBar": true,
   "skip_h1_title": false,
   "title_cell": "Table of Contents",
   "title_sidebar": "Contents",
   "toc_cell": false,
   "toc_position": {},
   "toc_section_display": true,
   "toc_window_display": false
  }
 },
 "nbformat": 4,
 "nbformat_minor": 5
}
